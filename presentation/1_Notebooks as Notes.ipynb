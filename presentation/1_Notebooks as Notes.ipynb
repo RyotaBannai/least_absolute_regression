{
 "cells": [
  {
   "cell_type": "markdown",
   "metadata": {},
   "source": [
    "# Use Jupyter notebooks to keep track of what you did and where you've been.\n",
    "\n",
    "I use notebooks to keep track of any fiddling I've done so I can\n",
    "\n",
    "- look at it later.\n",
    "- do it again, maybe.\n",
    "- show it to others, etcetera.\n",
    "\n",
    "The notebooks can be Python, Bash, R, Julia, Node, Python with R mixed inside (tricky!),\n",
    "and lots of other options I haven't yet tried.\n",
    "\n",
    "## You can use notebooks as notebooks to keep notes of your thoughts, observations and experiments.\n",
    "\n",
    "<img src=\"galileo_jupiter.jpeg\"/>\n",
    "\n",
    "<img src=\"darwin_tree.jpg\"/>\n",
    "\n",
    "<img src=\"rosalind franklin's notebook on dna.jpg\" alt=\"roslind franklin's dna notebook\"/>\n",
    "\n",
    "## Later you can extract stuff from the notebooks and polish them into publications of various kinds.\n",
    "\n",
    "A real life example:\n",
    "\n",
    "I used a notebook to explore data from Nick for the\n",
    "[http://localhost:8888/notebooks/misc/nick_deveaux/data%20experiment.ipynb](dendritic cell project).\n",
    "\n",
    "I later hardened these code fragments into  \n",
    "[the `dc_network` repository](https://github.com/flatironinstitute/dc_network)\n",
    "published using Binder.\n",
    "\n",
    "## A somewhat real example follows.\n",
    "\n",
    "### I developed an implementation of least absolute error linear regression using the linear programming functionality provided by scipy.\n",
    "\n",
    "The method is not new but as far as I can tell no one has published it as\n",
    "a Python module.\n",
    "\n",
    "**LAE Regression: Given $n$ input data points $(x_i, y_i, \\ldots, z_i)$ \n",
    "of dimension $d + 1$ find coefficients $a, b, \\ldots$ and\n",
    "intercept $k$ which minimize the absolute error of the objective function\n",
    "$ax + by + \\ldots + k$ **\n",
    "\n",
    "$$ \\underset{a, b, \\ldots k}{\\text{minimize}} \\;\n",
    "   \\sum_i\n",
    "   | (ax_i + by_i + \\ldots + k) - z_i |\n",
    "$$\n",
    "\n",
    "This is an alternative to \"least squares regression\"\n",
    "\n",
    "\n",
    "$$ \\underset{a, b, \\ldots k}{\\text{minimize}} \\;\n",
    "   \\sum_i\n",
    "   ( (ax_i + by_i + \\ldots + k) - z_i )^2\n",
    "$$\n",
    "\n",
    "Visually for $d=1$:\n",
    "\n",
    "<img src=\"fit.png\">\n",
    "\n",
    "The least absolute regression fit is in red and the least squares fit is in dashed green.\n",
    "\n",
    "### I used notebook experimentation to try out the method with different inputs with visualization for debugging.\n",
    "\n",
    "After messing around until I thought the calculations worked I ended up with the\n",
    "following code.\n",
    "\n",
    "# Least absolute error regression: the code and visualization\n",
    "\n",
    "## This is a cleaned up version of a computational experiment captured as a Jupyter notebook.\n",
    "\n",
    "## This is the *Notebook proof of concept* which we want to harden into a *Published module* suitable for use by other professionals.\n",
    "\n",
    "Reformulated in matrix/vector form the least absolute error\n",
    "problem becomes: find vector $\\mathbf{m}$ of dimension $d$ and scalar $k$\n",
    "which minimizes the ${\\lVert \\mathbf{e} \\rVert}_1$ in the equation\n",
    "$$\n",
    "\\mathbf{U}  \\cdot \\mathbf{m} + k = \\mathbf{v} + \\mathbf{e}\n",
    "$$\n",
    "where\n",
    "$$\n",
    "\\mathbf{U} =\n",
    "\\begin{bmatrix}\n",
    "    x_{1} & y_{1} & \\dots  \\\\\n",
    "    x_{2} & y_{2} & \\dots  \\\\\n",
    "    \\vdots & \\vdots & \\vdots &  \\\\\n",
    "\\end{bmatrix}\n",
    "$$\n",
    "\n",
    "and\n",
    "\n",
    "$$\n",
    "\\mathbf{v} =\n",
    "\\begin{bmatrix}\n",
    "    z_{1}\\\\\n",
    "    z_{2}\\\\\n",
    "    \\vdots \\\\\n",
    "\\end{bmatrix}\n",
    "$$\n",
    "and\n",
    "the desired coefficients are\n",
    "$$\n",
    "\\mathbf{m} =\n",
    "\\begin{bmatrix}\n",
    "    a\\\\\n",
    "    b\\\\\n",
    "    \\vdots \\\\\n",
    "\\end{bmatrix}\n",
    "$$\n",
    "with the desired intercept $k$\n",
    "\n",
    "Below is the implementation of least absolute error regression\n",
    "in numeric Python in terms of $\\mathbf{U}$ and $\\mathbf{v}$.\n",
    "Please see\n",
    "[1.1_Method Derivation.ipynb](1.1_Method Derivation.ipynb)\n",
    "for a detailed discussion of the implementation."
   ]
  },
  {
   "cell_type": "code",
   "execution_count": 1,
   "metadata": {},
   "outputs": [],
   "source": [
    "import numpy as np\n",
    "import scipy.optimize\n",
    "\n",
    "def l1_fit(U, v):\n",
    "    \"\"\"\n",
    "    Find a least absolute error solution (m, k) to U * m + k = v + e.\n",
    "    Minimize sum of absolute values of vector e (the residuals).\n",
    "    \"\"\"\n",
    "    U = np.array(U)\n",
    "    v = np.array(v)\n",
    "    # n is the number of samples\n",
    "    n = len(v)\n",
    "    s = U.shape\n",
    "    assert len(s) == 2\n",
    "    assert s[0] == n\n",
    "    # d is the number of dimensions\n",
    "    d = s[1]\n",
    "    I = np.identity(n)\n",
    "    n1 = np.ones((n,1))\n",
    "    A = np.vstack([\n",
    "            np.hstack([-I, U, n1]),\n",
    "            np.hstack([-I, -U, -n1])\n",
    "        ])\n",
    "    c = np.hstack([np.ones(n), np.zeros(d+1)])\n",
    "    b = np.hstack([v, -v])\n",
    "    bounds = [(0, None)] * n + [(None, None)] * (d+1)\n",
    "    options = {\"maxiter\": 10000}\n",
    "    # Call the linprog subroutine.\n",
    "    r = scipy.optimize.linprog(c, A, b, bounds=bounds, options=options)\n",
    "    # Extract the interpolation result from the linear program solution.\n",
    "    x = r.x\n",
    "    m = x[n:n+d]\n",
    "    k = x[n+d]\n",
    "    v_predicted = np.dot(U, m) + k\n",
    "    residuals = v - v_predicted\n",
    "    # For debugging store all parameters, intermediates and results in returned dict.\n",
    "    result = {}\n",
    "    result[\"U\"] = U\n",
    "    result[\"v\"] = v\n",
    "    result[\"m\"] = m\n",
    "    result[\"k\"] = k\n",
    "    result[\"r\"] = r\n",
    "    result[\"samples\"] = n\n",
    "    result[\"dimensions\"] = d\n",
    "    result[\"A\"] = A\n",
    "    result[\"b\"] = b\n",
    "    result[\"c\"] = c\n",
    "    result[\"bounds\"] = bounds\n",
    "    result[\"residuals\"] = residuals\n",
    "    result[\"v_predicted\"] = v_predicted\n",
    "    return result"
   ]
  },
  {
   "cell_type": "markdown",
   "metadata": {},
   "source": [
    "I also modified a matplotlib illustration for simple regression to illustrate the\n",
    "method."
   ]
  },
  {
   "cell_type": "code",
   "execution_count": 2,
   "metadata": {},
   "outputs": [],
   "source": [
    "%matplotlib inline\n",
    "import matplotlib.pyplot as plt\n",
    "\n",
    "\n",
    "def lsqfit(x, y):\n",
    "    \"least squares fit, for comparison\"\n",
    "    x = np.array(x)\n",
    "    A = np.vstack([x, np.ones(len(x))]).T\n",
    "    m, c = np.linalg.lstsq(A, y)[0]\n",
    "    fity = m*x + c\n",
    "    return fity\n",
    "\n",
    "def plot(result, size=64):\n",
    "    samples = result[\"samples\"]\n",
    "    dimensions = result[\"dimensions\"]\n",
    "    # this plot only works for linear fits\n",
    "    assert dimensions == 1, \"sorry, no can do\"\n",
    "    U = result[\"U\"]\n",
    "    m = result[\"m\"]\n",
    "    x = U.reshape((samples,))\n",
    "    y_actual = result[\"v\"]\n",
    "    y_predicted = result[\"v_predicted\"]\n",
    "    y_least_squares = lsqfit(x, y_actual)\n",
    "    fig, ax = plt.subplots()\n",
    "    ax.scatter(x, y_actual, facecolors='none', edgecolors='b', s=size)\n",
    "    #ax.scatter(x, y_predicted, color=\"red\", marker=\"x\", s=size)\n",
    "    ax.plot(x, y_least_squares, color=\"green\", dashes=(5,5))\n",
    "    ax.plot(x, y_predicted, color=\"red\")\n",
    "    fig.show()"
   ]
  },
  {
   "cell_type": "markdown",
   "metadata": {},
   "source": [
    "## Trivial example usage\n",
    "\n",
    "The most trivial example of regression has one dependent variable $x$ and\n",
    "one independent variable $y$ and there are two samples\n",
    "\n",
    "Here we \"regress\" two points mapping\n",
    "```\n",
    "1 --> 0\n",
    "2 --> 1\n",
    "```\n",
    "and we expect to get the fitted formula\n",
    "\n",
    "$$ y = m * x + k $$\n",
    "\n",
    "where $ m = 1 $ and $ k = -1 $."
   ]
  },
  {
   "cell_type": "code",
   "execution_count": 3,
   "metadata": {},
   "outputs": [
    {
     "data": {
      "text/plain": [
       "(array([ 1.]), -1.000, array([ 0.,  0.]), 2, 1)"
      ]
     },
     "execution_count": 3,
     "metadata": {},
     "output_type": "execute_result"
    }
   ],
   "source": [
    "# Let's make the numbers more easy to read...\n",
    "%precision 3\n",
    "\n",
    "# Trivial example usage\n",
    "# Independent variable values.\n",
    "U = ([1], [2])\n",
    "# Dependent variable values\n",
    "v = (0, 1)\n",
    "# Perform the regression.\n",
    "result = l1_fit(U, v)\n",
    "result[\"m\"], result[\"k\"], result[\"residuals\"], result[\"samples\"], result[\"dimensions\"]"
   ]
  },
  {
   "cell_type": "markdown",
   "metadata": {},
   "source": [
    "Above note that the independent values is a sequence of lists because in general\n",
    "there may be more than one independent value.\n",
    "\n",
    "For one dimensional examples we have a helper which will show how the fit\n",
    "compares to a scatter plot of the input mappings."
   ]
  },
  {
   "cell_type": "code",
   "execution_count": 4,
   "metadata": {},
   "outputs": [
    {
     "name": "stderr",
     "output_type": "stream",
     "text": [
      "//anaconda/lib/python2.7/site-packages/matplotlib/figure.py:397: UserWarning: matplotlib is currently using a non-GUI backend, so cannot show the figure\n",
      "  \"matplotlib is currently using a non-GUI backend, \"\n"
     ]
    },
    {
     "data": {
      "image/png": "[encoded data removed]",
      "text/plain": [
       "<matplotlib.figure.Figure at 0x10a89a750>"
      ]
     },
     "metadata": {},
     "output_type": "display_data"
    }
   ],
   "source": [
    "plot(result)"
   ]
  },
  {
   "cell_type": "markdown",
   "metadata": {},
   "source": [
    "The plot shows the two input points as blue circles, the fit line in red\n",
    "and a least squares fit line (which agrees in this case) in dashed green.\n",
    "\n",
    "## A less trivial example\n",
    "\n",
    "Regression is more interesting when you are fitting more samples than dimensions\n",
    "that are not linearly related.\n",
    "Below we fit one dependent variable with the mapping\n",
    "```\n",
    "1 --> 0\n",
    "2 --> 0\n",
    "3 --> 1\n",
    "```"
   ]
  },
  {
   "cell_type": "code",
   "execution_count": 5,
   "metadata": {},
   "outputs": [
    {
     "data": {
      "text/plain": [
       "(array([ 0.5]), -0.500, array([ 0. , -0.5,  0. ]), 3, 1)"
      ]
     },
     "execution_count": 5,
     "metadata": {},
     "output_type": "execute_result"
    },
    {
     "data": {
      "image/png": "[encoded data removed]",
      "text/plain": [
       "<matplotlib.figure.Figure at 0x11391d310>"
      ]
     },
     "metadata": {},
     "output_type": "display_data"
    }
   ],
   "source": [
    "# Less trivial example usage\n",
    "# Independent variable values\n",
    "U = ([1], [2], [3])\n",
    "# Dependent variable values\n",
    "v = (0, 0, 1)\n",
    "result = l1_fit(U, v)\n",
    "plot(result)\n",
    "result[\"m\"], result[\"k\"], result[\"residuals\"], result[\"samples\"], result[\"dimensions\"]"
   ]
  },
  {
   "cell_type": "markdown",
   "metadata": {},
   "source": [
    "In this case the least squared error fit and the least absolute error fit\n",
    "do not agree.\n",
    "\n",
    "## Many independent variable\n",
    "\n",
    "The method will work with any number of independent variables.\n",
    "\n",
    "Below we have a two independent variables mapping\n",
    "```\n",
    "(1,0) --> -1\n",
    "(2,1) --> 1\n",
    "(3,0) --> 1\n",
    "```\n",
    "This trivially fits the plane equation $ x + y - 2 = z $.  A \"plot\" of\n",
    "the regression would require a 3 dimensional presentation, which is not\n",
    "implemented here."
   ]
  },
  {
   "cell_type": "code",
   "execution_count": 6,
   "metadata": {},
   "outputs": [
    {
     "data": {
      "text/plain": [
       "(array([ 1.,  1.]),\n",
       " -2.000,\n",
       " array([  0.000e+00,  -2.220e-16,   6.661e-16]),\n",
       " 3,\n",
       " 2)"
      ]
     },
     "execution_count": 6,
     "metadata": {},
     "output_type": "execute_result"
    }
   ],
   "source": [
    "# A trivial example with 2 predictor variables x + y - 2\n",
    "U = ([1, 0], [2, 1], [3, 0])\n",
    "v = (-1, 1, 1)\n",
    "result = l1_fit(U, v)\n",
    "result[\"m\"], result[\"k\"], result[\"residuals\"], result[\"samples\"], result[\"dimensions\"]"
   ]
  },
  {
   "cell_type": "markdown",
   "metadata": {},
   "source": [
    "Note that the we recover the equation $ 1x + 1y - 2 = z $ and all the residuals\n",
    "are very near 0.\n",
    "\n",
    "Below is a less trivial example with 2 independent variables that do not fit a plane.\n",
    "The mapping of independent variables to the dependent variable is\n",
    "```\n",
    "(1,1) --> 0\n",
    "(1,-1) --> -2\n",
    "(-1,-1) --> -4\n",
    "(-1,1) --> -2\n",
    "(0,0) --> -1.3\n",
    "```\n",
    "All but the last mapping fit the plane $x + y - 2 = z$."
   ]
  },
  {
   "cell_type": "code",
   "execution_count": 7,
   "metadata": {},
   "outputs": [
    {
     "data": {
      "text/plain": [
       "(array([ 1.,  1.]),\n",
       " -2.000,\n",
       " array([ -4.441e-16,  -1.332e-15,  -4.441e-16,   4.441e-16,   7.000e-01]),\n",
       " 5,\n",
       " 2)"
      ]
     },
     "execution_count": 7,
     "metadata": {},
     "output_type": "execute_result"
    }
   ],
   "source": [
    "# A non trivial example with 2 predictor variables x + y - 2 and one outlier\n",
    "U = ([1, 1], [1, -1], [-1, -1], [-1, 1], [0, 0])\n",
    "v = (0, -2, -4, -2, -1.3)\n",
    "result = l1_fit(U, v)\n",
    "result[\"m\"], result[\"k\"], result[\"residuals\"], result[\"samples\"], result[\"dimensions\"]"
   ]
  },
  {
   "cell_type": "markdown",
   "metadata": {},
   "source": [
    "Here with $m = (1,1)$ and $k = -2$ the regression finds the plane\n",
    "$1*x + 1*y - 2 = z$ and essentially rejects the last mapping as an\n",
    "outlier.\n",
    "\n",
    "Note that all the residuals are near zero except for the last which has\n",
    "essentially been rejected as an outlier.\n",
    "\n",
    "Least absolute error regression is thought to be \"better for ignoring outliers\"\n",
    "than other methods such as least squared error regression.\n",
    "\n",
    "The example below illustrates how least squares regression (green) is more strongly\n",
    "effected by outliers than least absolute error regression (red)."
   ]
  },
  {
   "cell_type": "code",
   "execution_count": 8,
   "metadata": {},
   "outputs": [
    {
     "data": {
      "image/png": "[encoded data removed]",
      "text/plain": [
       "<matplotlib.figure.Figure at 0x113ecd1d0>"
      ]
     },
     "metadata": {},
     "output_type": "display_data"
    }
   ],
   "source": [
    "# nearly linear with an outlier\n",
    "n = 10\n",
    "x = np.linspace(0,1,n)\n",
    "small_error = (np.random.randn(n)-0.5) * 0.1\n",
    "y = (0.5 * x - 1) + small_error\n",
    "y[5] = 5 # outlier!\n",
    "\n",
    "U = x.reshape((n, 1))\n",
    "v = y\n",
    "result = l1_fit(U, v)\n",
    "plot(result)"
   ]
  },
  {
   "cell_type": "markdown",
   "metadata": {},
   "source": [
    "Note that most of the points are very near the least absolute error line\n",
    "except for the single outlier which pulls the least squared error line away.\n",
    "\n",
    "For more random data sets the two fit methods can disagree strongly.  Here is\n",
    "a random example with on independent variable."
   ]
  },
  {
   "cell_type": "code",
   "execution_count": 9,
   "metadata": {},
   "outputs": [
    {
     "data": {
      "image/png": "[encoded data removed]",
      "text/plain": [
       "<matplotlib.figure.Figure at 0x113e47890>"
      ]
     },
     "metadata": {},
     "output_type": "display_data"
    }
   ],
   "source": [
    "# a random 1d example\n",
    "n = 20\n",
    "x = np.array(sorted(np.random.randn(n)))\n",
    "y = np.random.randn(n)\n",
    "U = x.reshape((n, 1))\n",
    "v = y\n",
    "result = l1_fit(U, v)\n",
    "plot(result)"
   ]
  },
  {
   "cell_type": "markdown",
   "metadata": {},
   "source": [
    "# So now that it works, how do I publish it and make other people interested in it?"
   ]
  },
  {
   "cell_type": "code",
   "execution_count": null,
   "metadata": {},
   "outputs": [],
   "source": []
  }
 ],
 "metadata": {
  "kernelspec": {
   "display_name": "Python 2",
   "language": "python",
   "name": "python2"
  },
  "language_info": {
   "codemirror_mode": {
    "name": "ipython",
    "version": 2
   },
   "file_extension": ".py",
   "mimetype": "text/x-python",
   "name": "python",
   "nbconvert_exporter": "python",
   "pygments_lexer": "ipython2",
   "version": "2.7.13"
  }
 },
 "nbformat": 4,
 "nbformat_minor": 2
}
