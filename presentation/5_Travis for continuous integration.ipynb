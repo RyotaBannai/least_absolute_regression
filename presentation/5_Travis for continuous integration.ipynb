{
 "cells": [
  {
   "cell_type": "markdown",
   "metadata": {},
   "source": [
    "# Now that we have test cases we can have continuous integration\n",
    "\n",
    "## Verify that the module installs and runs\n",
    "## On different platforms\n",
    "## In different environments (for example different Python versions)\n",
    "\n",
    "# You need to\n",
    "\n",
    "## Register with [travis.ci](https://travis-ci.org/)\n",
    "## Enable the repository (which is free if the repo is public)\n",
    "## Add [`.travis.yml`](https://github.com/AaronWatters/least_absolute_regression/blob/3e981458fd0ecc46b85ce9ba8ae277ad33de5504/.travis.yml) to the top level of the repository\n",
    "## Pushing the commit for `.travis.yml` should trigger travis to run your test cases.\n",
    "\n",
    "Typically you have to mess with the travis configuration to get everything working.\n",
    "\n",
    "\n",
    "## Travis will test your branches to find configuration issues\n",
    "\n",
    "For example I created a broken branch for illustration purposes:\n",
    "```bash\n",
    "$ git checkout -b broken-branch\n",
    "Switched to a new branch 'broken-branch'\n",
    "```\n",
    "\n",
    "Then I introduced some some faults and added them for commit.\n",
    "\n",
    "```bash\n",
    "...\n",
    "$ git commit -m \"broken commit\"\n",
    "[broken-branch 9ca765e] broken commit\n",
    " 2 files changed, 2 insertions(+), 1 deletion(-)\n",
    "$ git push\n",
    "fatal: The current branch broken-branch has no upstream branch.\n",
    "To push the current branch and set the remote as upstream, use\n",
    "\n",
    "    git push --set-upstream origin broken-branch\n",
    "\n",
    "$ git push --set-upstream origin broken-branch\n",
    "...\n",
    "Branch broken-branch set up to track remote branch broken-branch from origin.\n",
    "```\n",
    "\n",
    "In a few minutes Travis sent me email warning me that\n",
    "[the branch tests failed](https://travis-ci.org/AaronWatters/least_absolute_regression/branches).\n",
    "\n",
    "Maybe try to fix the branch using the github web interface if there is time?"
   ]
  },
  {
   "cell_type": "markdown",
   "metadata": {},
   "source": [
    "# Don't forget to put the build badge into the [README](https://github.com/AaronWatters/least_absolute_regression/commit/dcc44d1130ffaa74d326b8ab6b0649858434ac7f#diff-04c6e90faac2675aa89e2176d2eec7d8)!\n",
    "\n",
    "[![Build Status](https://travis-ci.org/AaronWatters/least_absolute_regression.svg?branch=master)](https://travis-ci.org/AaronWatters/least_absolute_regression)\n",
    "\n",
    "Note that there are other similar services which seem to be\n",
    "useful for special purposes like validating Windows installs."
   ]
  },
  {
   "cell_type": "code",
   "execution_count": null,
   "metadata": {},
   "outputs": [],
   "source": []
  }
 ],
 "metadata": {
  "kernelspec": {
   "display_name": "Python 2",
   "language": "python",
   "name": "python2"
  },
  "language_info": {
   "codemirror_mode": {
    "name": "ipython",
    "version": 2
   },
   "file_extension": ".py",
   "mimetype": "text/x-python",
   "name": "python",
   "nbconvert_exporter": "python",
   "pygments_lexer": "ipython2",
   "version": "2.7.13"
  }
 },
 "nbformat": 4,
 "nbformat_minor": 2
}
