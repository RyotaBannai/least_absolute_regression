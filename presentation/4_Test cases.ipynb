{
 "cells": [
  {
   "cell_type": "markdown",
   "metadata": {},
   "source": [
    "# Validate the module with test cases\n",
    "\n",
    "How do we know the code we cut/pasted works?  Why not try the examples from the proof of concept?\n",
    "\n",
    "## Even better: make the examples from the proof of concept into test cases!\n",
    "\n",
    "## The cookie cutter set up a test directory with a mostly empty file for test cases.\n",
    "\n",
    "## Let's add examples from the notebook proof of concept to the test case file\n",
    "\n",
    "## [Check it out](https://github.com/AaronWatters/least_absolute_regression/blob/master/lae_regression/tests/test_lae_regression_package.py)\n",
    "\n",
    "Note that I made a slightly fancy base class for tests \n",
    "[so adding additional tests is simple.](https://github.com/AaronWatters/least_absolute_regression/commit/d01fcd9ef337be1c75014ac13d3d4ccdb4417e36#diff-7531d3d1e53459ba05a49a6a40208ea7)\n",
    "\n",
    "## Adding test cases is easy when cookie cutter set it all up for you\n"
   ]
  },
  {
   "cell_type": "code",
   "execution_count": null,
   "metadata": {},
   "outputs": [],
   "source": []
  }
 ],
 "metadata": {
  "kernelspec": {
   "display_name": "Python 2",
   "language": "python",
   "name": "python2"
  },
  "language_info": {
   "codemirror_mode": {
    "name": "ipython",
    "version": 2
   },
   "file_extension": ".py",
   "mimetype": "text/x-python",
   "name": "python",
   "nbconvert_exporter": "python",
   "pygments_lexer": "ipython2",
   "version": "2.7.13"
  }
 },
 "nbformat": 4,
 "nbformat_minor": 2
}
