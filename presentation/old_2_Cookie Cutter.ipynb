{
 "cells": [
  {
   "cell_type": "markdown",
   "metadata": {},
   "source": [
    "# Automating \"the usual best practice\"\n",
    "\n",
    "Most code repositories fall into categories which all (should) have a similar\n",
    "structure.  The `cookiecutter` tool automates putting together what a repository\n",
    "usually needs quickly and easily.  Once the infrastructure is in place you can customize\n",
    "it as needed.\n",
    "\n",
    "## Try the cookie cutter approach\n",
    "\n",
    "For simplicity bootstrap using a cookie cutter approach\n",
    "outlined here\n",
    "[http://tjelvarolsson.com/blog/begginers-guide-creating-clean-python-development-environments/](http://tjelvarolsson.com/blog/begginers-guide-creating-clean-python-development-environments/)"
   ]
  },
  {
   "cell_type": "markdown",
   "metadata": {},
   "source": [
    "## Running the cookie cutter\n",
    "\n",
    "```bash\n",
    "$ cd ~/repos/least_absolute_regression/\n",
    "$ cookiecutter gh:tjelvar-olsson/cookiecutter-pypackage\n",
    "```\n",
    "\n",
    "The cookiecutter tools prompts for some basic information\n",
    "and then lays out the standard structure.\n",
    "\n",
    "```bash\n",
    "You've cloned /Users/awatters/.cookiecutters/cookiecutter-pypackage before. Is it okay to delete and re-clone it? [yes]: \n",
    "repo_name [mypackage]: lae_regression\n",
    "version [0.1.0]: \n",
    "author [Your Name]: Aaron Watters\n",
    "description [Package to do something useful]: Least absolute error regression implmented using linear programming.\n",
    "author_email [namey@example.com]: awatters@flatironinstitute.org\n",
    "ccbmac020:least_absolute_regression awatters$ tree .\n",
    ".\n",
    "├── README.md\n",
    "├── lae_regression\n",
    "│   ├── CHANGELOG.rst\n",
    "│   ├── LICENSE.rst\n",
    "│   ├── MANIFEST.in\n",
    "│   ├── README.rst\n",
    "│   ├── docs\n",
    "│   │   ├── Makefile\n",
    "│   │   ├── make.bat\n",
    "│   │   └── source\n",
    "│   │       ├── CHANGELOG.rst\n",
    "│   │       ├── LICENSE.rst\n",
    "│   │       ├── README.rst\n",
    "│   │       ├── conf.py\n",
    "│   │       └── index.rst\n",
    "│   ├── lae_regression\n",
    "│   │   └── __init__.py\n",
    "│   ├── requirements.txt\n",
    "│   ├── setup.cfg\n",
    "│   ├── setup.py\n",
    "│   ├── tests\n",
    "│   │   ├── __init__.py\n",
    "│   │   └── test_lae_regression_package.py\n",
    "│   └── tox.ini\n",
    "└── notebooks\n",
    "    └── history.ipynb\n",
    "\n",
    "6 directories, 20 files\n",
    "```\n",
    "\n",
    "Note that I haven't published a lot of these files because I don't\n",
    "really need them (yet)."
   ]
  },
  {
   "cell_type": "markdown",
   "metadata": {},
   "source": [
    "## Installing the module in development mode\n",
    "\n",
    "By using the `develop` option to `setup.py` we can edit the module\n",
    "in place without installing it after each change.\n",
    "\n",
    "```bash\n",
    "$ cd lae_regression/\n",
    "\n",
    "\n",
    "\n",
    "\n",
    "```"
   ]
  }
 ],
 "metadata": {
  "kernelspec": {
   "display_name": "Python 2",
   "language": "python",
   "name": "python2"
  },
  "language_info": {
   "codemirror_mode": {
    "name": "ipython",
    "version": 2
   },
   "file_extension": ".py",
   "mimetype": "text/x-python",
   "name": "python",
   "nbconvert_exporter": "python",
   "pygments_lexer": "ipython2",
   "version": "2.7.13"
  }
 },
 "nbformat": 4,
 "nbformat_minor": 2
}
