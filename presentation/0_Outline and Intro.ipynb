{
 "cells": [
  {
   "cell_type": "markdown",
   "metadata": {},
   "source": [
    "# How to get cool badges for your scientific workflow\n",
    "\n",
    "A meditation in Jupyter notebooks by Aaron Watters.\n",
    "\n",
    "I'm going to talk about how to get cool badges like these:\n",
    "\n",
    "![cool badges](badges.png)\n",
    "\n",
    "You may have seen these badges on github projects including `inferelator-ng` and\n",
    "other projects associated with the Simon's foundation.\n",
    "\n",
    "# Presumption\n",
    "\n",
    "You want to create scientific workflows and make them available for others\n",
    "to use and you want them to be cool.\n",
    "\n",
    "\n",
    "# One way to do it\n",
    "\n",
    "We have used the techniques described in this talk on various projects\n",
    "to publish scientific workflows, techniques, and results.  Here is one\n",
    "approach:\n",
    "\n",
    "- Use Jupyter notebooks to keep track of what you did and where you've been.\n",
    "\n",
    "- Once you have something that works harden your code into a publishable module\n",
    "using Cookiecutter to make it easy.\n",
    "\n",
    "- Publish your module using git and Github.\n",
    "\n",
    "- Add test case runs to make sure your code runs when installed elsewhere.\n",
    "\n",
    "- Use `travis` for *continuous integration* and get\n",
    "the *travis build badge*! \n",
    "[![Build Status](https://travis-ci.org/AaronWatters/least_absolute_regression.svg?branch=master)](https://travis-ci.org/AaronWatters/least_absolute_regression)\n",
    "\n",
    "- Link `codecov` to your travis builds and get the *coverage* badge!\n",
    "[![codecov](https://codecov.io/gh/AaronWatters/least_absolute_regression/branch/master/graph/badge.svg)\n",
    "\n",
    "- Use `repo2docker` to easily build your module into a *Docker image* which can run anywhere\n",
    "without *dependancy hell*.\n",
    "\n",
    "- Build your docker image in `Binder` to allow anyone anywhere to try your code\n",
    "without installing anything and get the *Binder badge*!\n",
    "[![Binder](https://mybinder.org/badge.svg)](https://mybinder.org/v2/gh/AaronWatters/least_absolute_regression/master)\n",
    "\n",
    "Of course there are a lot of other badges you can get for things like\n",
    "documentation, chat channels, mailing lists, `pip` and other distributions methods --\n",
    "you are on your own for those...\n",
    "\n",
    "**Warning**: Getting badges is fun but it can be addictive."
   ]
  },
  {
   "cell_type": "markdown",
   "metadata": {},
   "source": [
    "# More specifically:\n",
    "\n",
    "## [Use Jupyter notebooks to keep track of what you did and where you've been](1_Notebooks%20as%20Notes.ipynb).\n",
    "\n",
    "## [Once you have something that works harden your code into a publishable module using Cookiecutter to make it easy](2_Cookie%20Cutter.ipynb)\n",
    "\n",
    "## [Publish your module using git and Github.](3_Git%20and%20Github.ipynb)\n",
    "\n",
    "## [Add test case runs to make sure your code runs when installed elsewhere.](4_Test%20cases.ipynb)\n",
    "\n",
    "## [Use `travis` for *continuous integration* and get the *travis build badge*!](5_Travis%20for%20continuous%20integration.ipynb) \n",
    "\n",
    "## [Link `codecov` to your travis builds and get the *coverage* badge!](http://localhost:8888/notebooks/misc/talks/Workflows/6_code%20coverage.ipynb)\n",
    "\n",
    "## [Use `repo2docker` to easily build your module into a *Docker image* which can run anywhere without *dependency hell*.](7_Dockerizing.ipynb)\n",
    "\n",
    "## [Build your docker image in `Binder` to allow anyone anywhere to try your code without installing anything and get the *Binder badge*!](7_Dockerizing.ipynb)\n",
    "\n"
   ]
  },
  {
   "cell_type": "code",
   "execution_count": null,
   "metadata": {},
   "outputs": [],
   "source": []
  }
 ],
 "metadata": {
  "kernelspec": {
   "display_name": "Python 2",
   "language": "python",
   "name": "python2"
  },
  "language_info": {
   "codemirror_mode": {
    "name": "ipython",
    "version": 2
   },
   "file_extension": ".py",
   "mimetype": "text/x-python",
   "name": "python",
   "nbconvert_exporter": "python",
   "pygments_lexer": "ipython2",
   "version": "2.7.13"
  }
 },
 "nbformat": 4,
 "nbformat_minor": 2
}
