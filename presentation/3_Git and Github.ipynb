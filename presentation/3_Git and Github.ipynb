{
 "cells": [
  {
   "cell_type": "markdown",
   "metadata": {},
   "source": [
    "# Publish your module using git and Github\n",
    "\n",
    "Github has become the main environment where software projects live.\n",
    "\n",
    "It is centered on `git` which is an okay distributed change control\n",
    "system with *far too many features*.\n",
    "\n",
    "You should\n",
    "\n",
    "* Set up a github user.\n",
    "* Set up git on your workstation.\n",
    "* Set up github authentication on your workstation.\n",
    "\n",
    "You also should learn the absolutely smallest set of commands you\n",
    "need to know to interact with `git`\n",
    "\n",
    "* Mostly `clone, pull, push, add, commit`.\n",
    "* You need to understand branches -- they are very useful.\n",
    "* Occasionally you need to resolve merge conflicts.\n",
    "* Using forks is good with larger projects.\n",
    "\n",
    "A good resource on using github for more complex projects is\n",
    "the [scipy contributor page](https://docs.scipy.org/doc/numpy/dev/)\n",
    "which talks about how to set up forks and remotes properly.\n",
    "\n",
    "### Do not wander into dark corners of git unless you are following a well vetted procedure or you fully understand what you are doing.\n",
    "\n",
    "You can cause a lot of pain to yourself and others if you do."
   ]
  },
  {
   "cell_type": "markdown",
   "metadata": {},
   "source": [
    "# Setting up your repository in github\n",
    "\n",
    "* Create the repository using the Github web interface.  I created \n",
    "`flatironinstitute/least_absolute_regression`\n",
    "* Clone the repository to a local working copy\n",
    "```bash\n",
    "cd ~/repos\n",
    "git clone https://github.com/flatironinstitute/least_absolute_regression.git\n",
    "```\n",
    "* Copy the module directory structure into the repository directory\n",
    "```bash\n",
    "cd least_absolute_regression\n",
    "cp -r ~/tmp/lae_regression .\n",
    "```\n",
    "* Cut/paste two modules from the notebook proof of concept code as python code files:\n",
    "the central code file [lae_regression/lae_regression/least_abs_err_regression.py](https://github.com/AaronWatters/least_absolute_regression/blob/master/lae_regression/lae_regression/least_abs_err_regression.py) and the plot helper.\n",
    "(https://github.com/AaronWatters/least_absolute_regression/blob/master/lae_regression/lae_regression/__init__.py)\n",
    "[lae_regression/lae_regression/plot_helper.py]\n",
    "* For convenience make it easier to import\n",
    "```\n",
    "from lae_regression import l1_fit\n",
    "```\n",
    "by importing the function in the module\n",
    "[`__init__.py`](https://github.com/AaronWatters/least_absolute_regression/blob/master/lae_regression/lae_regression/__init__.py)\n",
    "* Then commit files to the repository and push them.  I just check in the files I'm currently using actively.  Other files from the cookie cutter step can be added as they are needed.\n",
    "```bash\n",
    "cd lae_regression/\n",
    "git add README.rst \n",
    "git add setup.py \n",
    "git add lae_regression/*.py\n",
    "git add tests/*.py\n",
    "git add requirements.txt \n",
    "git commit -m \"initial checkin\"\n",
    "git push\n",
    "```\n",
    "There is no need to add an empty documentation tree to the repository just yet."
   ]
  },
  {
   "cell_type": "code",
   "execution_count": null,
   "metadata": {},
   "outputs": [],
   "source": []
  }
 ],
 "metadata": {
  "kernelspec": {
   "display_name": "Python 2",
   "language": "python",
   "name": "python2"
  },
  "language_info": {
   "codemirror_mode": {
    "name": "ipython",
    "version": 2
   },
   "file_extension": ".py",
   "mimetype": "text/x-python",
   "name": "python",
   "nbconvert_exporter": "python",
   "pygments_lexer": "ipython2",
   "version": "2.7.13"
  }
 },
 "nbformat": 4,
 "nbformat_minor": 2
}
