{
 "cells": [
  {
   "cell_type": "markdown",
   "metadata": {},
   "source": [
    "# Using Docker to encapsulate a computational environment\n",
    "\n",
    "By specifying how to build a docker image for your workflow you can\n",
    "allow people to use it without experiencing [dependency hell](https://en.wikipedia.org/wiki/Dependency_hell).\n",
    "\n",
    "#### Other less radical options: conda environments or virtual environments\n",
    "\n",
    "#### Docker allows people to run your code without exposing their file systems to your bugs\n",
    "\n",
    "#### The Jupyter project hosts `repo2docker`\n",
    "\n",
    "The `repo2docker` tool makes it fairly trivial to launch a Docker image\n",
    "running a Jupyter server containing your workflow/repository.\n",
    "\n",
    "# Using `repo2docker` for easy Docker builds\n",
    "\n",
    "#### Add one or more Jupyter notebooks to your repository illustrating the usage\n",
    "\n",
    "[I added `example usage.ipynb` which is also viewable in github.](https://github.com/AaronWatters/least_absolute_regression/blob/master/notebooks/Example%20usage.ipynb)\n",
    "\n",
    "#### Install Docker for your system\n",
    "#### Install `repo2docker` in a Python 3 environment\n",
    "#### Add one or more configuration files in your repository specifying dependencies\n",
    "#### For this repository we need to add [a top level requirements.txt](https://github.com/AaronWatters/least_absolute_regression/commit/5fb612d0059deab714931fd7a74173da7aae67c6)\n",
    "\n",
    "#### `$ jupyter-repo2docker https://github.com/AaronWatters/least_absolute_regression`\n",
    "\n",
    "#### Anyone with `repo2docker` and internet access can launch an image with the repository.\n",
    "\n",
    "There are a lot of other options to repo2docker -- for example you can mount a local folder.  The above is the most simple invocation."
   ]
  },
  {
   "cell_type": "markdown",
   "metadata": {},
   "source": [
    "# What if they want to try your code without even installing Docker?\n",
    "\n",
    "## Once your repository works with `repo2docker` it can be run remotely on the cloud using [Binder](https://mybinder.org/) -- and anybody anywhere can run your code without installing anything!\n",
    "\n",
    "Yes, even on a smart phone with a decent internet connection.\n"
   ]
  },
  {
   "cell_type": "markdown",
   "metadata": {},
   "source": [
    "# Be sure to add a [Binder link to your README](https://github.com/AaronWatters/least_absolute_regression/commit/092daba30f019205f0a281c502f4fb174b1ab098#diff-04c6e90faac2675aa89e2176d2eec7d8)\n",
    "\n",
    "[![Binder](https://mybinder.org/badge.svg)](https://mybinder.org/v2/gh/AaronWatters/least_absolute_regression/master)"
   ]
  },
  {
   "cell_type": "code",
   "execution_count": null,
   "metadata": {},
   "outputs": [],
   "source": []
  }
 ],
 "metadata": {
  "kernelspec": {
   "display_name": "Python 2",
   "language": "python",
   "name": "python2"
  },
  "language_info": {
   "codemirror_mode": {
    "name": "ipython",
    "version": 2
   },
   "file_extension": ".py",
   "mimetype": "text/x-python",
   "name": "python",
   "nbconvert_exporter": "python",
   "pygments_lexer": "ipython2",
   "version": "2.7.13"
  }
 },
 "nbformat": 4,
 "nbformat_minor": 2
}
