{
 "cells": [
  {
   "cell_type": "markdown",
   "metadata": {},
   "source": [
    "## Add code coverage and the codecov badge\n",
    "\n",
    "Modify \n",
    "[`.travis.yml` ](https://github.com/AaronWatters/least_absolute_regression/blob/757260553d57bb7502f8cb780480716a97bc3ab9/.travis.yml)\n",
    "to install and use code coverage tools \n",
    "and add\n",
    "[the coverage badge](https://github.com/AaronWatters/least_absolute_regression/commit/7a73cfd92cb13387b66aaedc64e8d32b1c305106).\n",
    "\n",
    "![codecov](https://codecov.io/gh/AaronWatters/least_absolute_regression/branch/master/graph/badge.svg)\n"
   ]
  },
  {
   "cell_type": "markdown",
   "metadata": {},
   "source": [
    "## Code coverage checks whether all branches of the code are tests\n",
    "\n",
    "### It is often very easy to add, so why not?\n",
    "### Developing test cases for all branches can be tricky, but also a rewarding challenge\n",
    "### If your code is too hard to test systematically, it may be poorly structured.\n",
    "\n",
    "Refactor it for better modularity.\n",
    "\n",
    "### In this case code coverage is trivial because there is only one code path\n",
    "### The inferelator example is more interesting\n",
    "\n",
    "[![codecov](https://codecov.io/gh/simonsfoundation/inferelator_ng/branch/master/graph/badge.svg)](https://codecov.io/gh/simonsfoundation/inferelator_ng)\n",
    "\n",
    "#### Getting a newbie to increase test coverage can be a good way to introduce someone to a project\n",
    "\n",
    "#### [It is possible to mark code as \"untestable\" to exclude it from coverage metrics](http://coverage.readthedocs.io/en/coverage-4.2/excluding.html)"
   ]
  },
  {
   "cell_type": "markdown",
   "metadata": {},
   "source": [
    "# [Don't forget to add your coverage badge to the README!](https://github.com/AaronWatters/least_absolute_regression/commit/7a73cfd92cb13387b66aaedc64e8d32b1c305106#diff-04c6e90faac2675aa89e2176d2eec7d8)"
   ]
  },
  {
   "cell_type": "code",
   "execution_count": null,
   "metadata": {},
   "outputs": [],
   "source": []
  }
 ],
 "metadata": {
  "kernelspec": {
   "display_name": "Python 2",
   "language": "python",
   "name": "python2"
  },
  "language_info": {
   "codemirror_mode": {
    "name": "ipython",
    "version": 2
   },
   "file_extension": ".py",
   "mimetype": "text/x-python",
   "name": "python",
   "nbconvert_exporter": "python",
   "pygments_lexer": "ipython2",
   "version": "2.7.13"
  }
 },
 "nbformat": 4,
 "nbformat_minor": 2
}
