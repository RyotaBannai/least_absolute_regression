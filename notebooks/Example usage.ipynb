{
 "cells": [
  {
   "cell_type": "markdown",
   "metadata": {},
   "source": [
    "# Example usage for least absolute error regression.\n",
    "\n",
    "This notebook illustrates the usage for the `lae_regression.l1_fit` function\n",
    "which implements least absolute error linear regression using linear programming."
   ]
  },
  {
   "cell_type": "code",
   "execution_count": 1,
   "metadata": {},
   "outputs": [],
   "source": [
    "%matplotlib inline\n",
    "%precision 3\n",
    "from lae_regression import l1_fit\n",
    "from lae_regression.plot_helper import plot\n",
    "import numpy as np  # for convenience"
   ]
  },
  {
   "cell_type": "markdown",
   "metadata": {},
   "source": [
    "## Trivial example usage\n",
    "\n",
    "The most trivial example of regression has one dependent variable $x$ and\n",
    "one independent variable $y$ and there are two samples\n",
    "\n",
    "Here we \"regress\" two points mapping\n",
    "```\n",
    "1 --> 0\n",
    "2 --> 1\n",
    "```\n",
    "and we expect to get the fitted formula\n",
    "\n",
    "$$ y = m * x + k $$\n",
    "\n",
    "where $ m = 1 $ and $ k = -1 $."
   ]
  },
  {
   "cell_type": "code",
   "execution_count": 2,
   "metadata": {},
   "outputs": [
    {
     "data": {
      "text/plain": [
       "(array([ 1.]), -1.000, array([ 0.,  0.]), 2, 1)"
      ]
     },
     "execution_count": 2,
     "metadata": {},
     "output_type": "execute_result"
    }
   ],
   "source": [
    "# Trivial example usage\n",
    "# Independent variable values.\n",
    "U = ([1], [2])\n",
    "# Dependent variable values\n",
    "v = (0, 1)\n",
    "# Perform the regression.\n",
    "result = l1_fit(U, v)\n",
    "result[\"m\"], result[\"k\"], result[\"residuals\"], result[\"samples\"], result[\"dimensions\"]"
   ]
  },
  {
   "cell_type": "markdown",
   "metadata": {},
   "source": [
    "Above note that the independent values is a sequence of lists because in general\n",
    "there may be more than one independent value.\n",
    "\n",
    "For one dimensional examples we have a helper which will show how the fit\n",
    "compares to a scatter plot of the input mappings."
   ]
  },
  {
   "cell_type": "code",
   "execution_count": 3,
   "metadata": {},
   "outputs": [
    {
     "name": "stderr",
     "output_type": "stream",
     "text": [
      "//anaconda/lib/python2.7/site-packages/matplotlib/figure.py:397: UserWarning: matplotlib is currently using a non-GUI backend, so cannot show the figure\n",
      "  \"matplotlib is currently using a non-GUI backend, \"\n"
     ]
    },
    {
     "data": {
      "image/png": "[encoded data removed]",
      "text/plain": [
       "<matplotlib.figure.Figure at 0x118ace8d0>"
      ]
     },
     "metadata": {},
     "output_type": "display_data"
    }
   ],
   "source": [
    "plot(result)"
   ]
  },
  {
   "cell_type": "markdown",
   "metadata": {},
   "source": [
    "The plot shows the two input points as blue circles, the fit line in red\n",
    "and a least squares fit line (which agrees in this case) in dashed green.\n",
    "\n",
    "## A less trivial example\n",
    "\n",
    "Regression is more interesting when you are fitting more samples than dimensions\n",
    "that are not linearly related.\n",
    "Below we fit one dependent variable with the mapping\n",
    "```\n",
    "1 --> 0\n",
    "2 --> 0\n",
    "3 --> 1\n",
    "```"
   ]
  },
  {
   "cell_type": "code",
   "execution_count": 4,
   "metadata": {},
   "outputs": [
    {
     "data": {
      "text/plain": [
       "(array([ 0.5]), -0.500, array([ 0. , -0.5,  0. ]), 3, 1)"
      ]
     },
     "execution_count": 4,
     "metadata": {},
     "output_type": "execute_result"
    },
    {
     "data": {
      "image/png": "[encoded data removed]",
      "text/plain": [
       "<matplotlib.figure.Figure at 0x111ea0550>"
      ]
     },
     "metadata": {},
     "output_type": "display_data"
    }
   ],
   "source": [
    "# Less trivial example usage\n",
    "# Independent variable values\n",
    "U = ([1], [2], [3])\n",
    "# Dependent variable values\n",
    "v = (0, 0, 1)\n",
    "result = l1_fit(U, v)\n",
    "plot(result)\n",
    "result[\"m\"], result[\"k\"], result[\"residuals\"], result[\"samples\"], result[\"dimensions\"]"
   ]
  },
  {
   "cell_type": "markdown",
   "metadata": {},
   "source": [
    "In this case the least squared error fit and the least absolute error fit\n",
    "do not agree.\n",
    "\n",
    "## Many independent variable\n",
    "\n",
    "The method will work with any number of independent variables.\n",
    "\n",
    "Below we have a two independent variables mapping\n",
    "```\n",
    "(1,0) --> -1\n",
    "(2,1) --> 1\n",
    "(3,0) --> 1\n",
    "```\n",
    "This trivially fits the plane equation $ x + y - 2 = z $.  A \"plot\" of\n",
    "the regression would require a 3 dimensional presentation, which is not\n",
    "implemented here."
   ]
  },
  {
   "cell_type": "code",
   "execution_count": 5,
   "metadata": {},
   "outputs": [
    {
     "data": {
      "text/plain": [
       "(array([ 1.,  1.]),\n",
       " -2.000,\n",
       " array([  0.000e+00,  -2.220e-16,   6.661e-16]),\n",
       " 3,\n",
       " 2)"
      ]
     },
     "execution_count": 5,
     "metadata": {},
     "output_type": "execute_result"
    }
   ],
   "source": [
    "# A trivial example with 2 predictor variables x + y - 2\n",
    "U = ([1, 0], [2, 1], [3, 0])\n",
    "v = (-1, 1, 1)\n",
    "result = l1_fit(U, v)\n",
    "result[\"m\"], result[\"k\"], result[\"residuals\"], result[\"samples\"], result[\"dimensions\"]"
   ]
  },
  {
   "cell_type": "markdown",
   "metadata": {},
   "source": [
    "Note that the we recover the equation $ 1x + 1y - 2 = z $ and all the residuals\n",
    "are very near 0.\n",
    "\n",
    "Below is a less trivial example with 2 independent variables that do not fit a plane.\n",
    "The mapping of independent variables to the dependent variable is\n",
    "```\n",
    "(1,1) --> 0\n",
    "(1,-1) --> -2\n",
    "(-1,-1) --> -4\n",
    "(-1,1) --> -2\n",
    "(0,0) --> -1.3\n",
    "```\n",
    "All but the last mapping fit the plane $x + y - 2 = z$."
   ]
  },
  {
   "cell_type": "code",
   "execution_count": 6,
   "metadata": {},
   "outputs": [
    {
     "data": {
      "text/plain": [
       "(array([ 1.,  1.]),\n",
       " -2.000,\n",
       " array([ -4.441e-16,  -1.332e-15,  -4.441e-16,   4.441e-16,   7.000e-01]),\n",
       " 5,\n",
       " 2)"
      ]
     },
     "execution_count": 6,
     "metadata": {},
     "output_type": "execute_result"
    }
   ],
   "source": [
    "# A non trivial example with 2 predictor variables x + y - 2 and one outlier\n",
    "U = ([1, 1], [1, -1], [-1, -1], [-1, 1], [0, 0])\n",
    "v = (0, -2, -4, -2, -1.3)\n",
    "result = l1_fit(U, v)\n",
    "result[\"m\"], result[\"k\"], result[\"residuals\"], result[\"samples\"], result[\"dimensions\"]"
   ]
  },
  {
   "cell_type": "markdown",
   "metadata": {},
   "source": [
    "Here with $m = (1,1)$ and $k = -2$ the regression finds the plane\n",
    "$1*x + 1*y - 2 = z$ and essentially rejects the last mapping as an\n",
    "outlier.\n",
    "\n",
    "Note that all the residuals are near zero except for the last which has\n",
    "essentially been rejected as an outlier.\n",
    "\n",
    "Least absolute error regression is thought to be \"better for ignoring outliers\"\n",
    "than other methods such as least squared error regression.\n",
    "\n",
    "The example below illustrates how least squares regression (green) is more strongly\n",
    "effected by outliers than least absolute error regression (red)."
   ]
  },
  {
   "cell_type": "code",
   "execution_count": 7,
   "metadata": {},
   "outputs": [
    {
     "data": {
      "image/png": "[encoded data removed]",
      "text/plain": [
       "<matplotlib.figure.Figure at 0x11b57f590>"
      ]
     },
     "metadata": {},
     "output_type": "display_data"
    }
   ],
   "source": [
    "# nearly linear with an outlier\n",
    "n = 10\n",
    "x = np.linspace(0,1,n)\n",
    "small_error = (np.random.randn(n)-0.5) * 0.1\n",
    "y = (0.5 * x - 1) + small_error\n",
    "y[5] = 5\n",
    "\n",
    "U = x.reshape((n, 1))\n",
    "v = y\n",
    "result = l1_fit(U, v)\n",
    "plot(result)"
   ]
  },
  {
   "cell_type": "markdown",
   "metadata": {},
   "source": [
    "Note that most of the points are very near the least absolute error line\n",
    "except for the single outlier which pulls the least squared error line away.\n",
    "\n",
    "For more random data sets the two fit methods can disagree strongly.  Here is\n",
    "a random example with on independent variable."
   ]
  },
  {
   "cell_type": "code",
   "execution_count": 8,
   "metadata": {},
   "outputs": [
    {
     "data": {
      "image/png": "[encoded data removed]",
      "text/plain": [
       "<matplotlib.figure.Figure at 0x110a18f10>"
      ]
     },
     "metadata": {},
     "output_type": "display_data"
    }
   ],
   "source": [
    "# a random 1d example\n",
    "n = 20\n",
    "x = np.random.randn(n)\n",
    "y = np.random.randn(n)\n",
    "U = x.reshape((n, 1))\n",
    "v = y\n",
    "result = l1_fit(U, v)\n",
    "plot(result)"
   ]
  },
  {
   "cell_type": "code",
   "execution_count": null,
   "metadata": {},
   "outputs": [],
   "source": []
  }
 ],
 "metadata": {
  "kernelspec": {
   "display_name": "Python 2",
   "language": "python",
   "name": "python2"
  },
  "language_info": {
   "codemirror_mode": {
    "name": "ipython",
    "version": 2
   },
   "file_extension": ".py",
   "mimetype": "text/x-python",
   "name": "python",
   "nbconvert_exporter": "python",
   "pygments_lexer": "ipython2",
   "version": "2.7.13"
  }
 },
 "nbformat": 4,
 "nbformat_minor": 2
}
